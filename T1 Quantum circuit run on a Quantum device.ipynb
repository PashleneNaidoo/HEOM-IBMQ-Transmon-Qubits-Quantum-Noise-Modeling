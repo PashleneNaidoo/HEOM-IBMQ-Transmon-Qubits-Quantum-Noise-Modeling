{
 "cells": [
  {
   "cell_type": "code",
   "execution_count": 2,
   "metadata": {
    "colab": {
     "base_uri": "https://localhost:8080/"
    },
    "id": "xmpgCu-NX9cB",
    "outputId": "bf8fc776-9ac0-4531-fa41-cd4b7c035022"
   },
   "outputs": [
    {
     "name": "stdout",
     "output_type": "stream",
     "text": [
      "Installing collected packages: pylatexenc, jedi\n",
      "Successfully installed jedi-0.19.1 pylatexenc-2.10\n"
     ]
    }
   ],
   "source": [
    "!pip install qiskit\n",
    "!pip install qiskit[visualization]"
   ]
  },
  {
   "cell_type": "code",
   "execution_count": 3,
   "metadata": {
    "id": "yBX4HHRDYCMk"
   },
   "outputs": [],
   "source": [
    "!pip install qiskit-experiments\n",
    "import qiskit_experiments"
   ]
  },
  {
   "cell_type": "code",
   "execution_count": null,
   "metadata": {
    "id": "E89heQGYYGLa"
   },
   "outputs": [],
   "source": [
    "!pip install qiskit-aer"
   ]
  },
  {
   "cell_type": "code",
   "execution_count": 5,
   "metadata": {
    "id": "qhbKlq5GYIqt"
   },
   "outputs": [],
   "source": [
    "import qiskit_aer"
   ]
  },
  {
   "cell_type": "code",
   "execution_count": 6,
   "metadata": {
    "colab": {
     "base_uri": "https://localhost:8080/"
    },
    "id": "VmgpNrS_YJTD",
    "outputId": "4049d472-517d-4228-a57c-9f26f43b32aa"
   },
   "outputs": [
    {
     "name": "stderr",
     "output_type": "stream",
     "text": [
      "/usr/local/lib/python3.10/dist-packages/qiskit_dynamics/dispatch/backends/jax.py:34: UserWarning: The functionality in the perturbation module of Qiskit Dynamics requires a JAX version <= 0.4.6, due to a bug in JAX versions > 0.4.6. For versions 0.4.4, 0.4.5, and 0.4.6, using the perturbation module functionality requires setting os.environ['JAX_JIT_PJIT_API_MERGE'] = '0' before importing JAX or Dynamics.\n",
      "  warnings.warn(\n"
     ]
    }
   ],
   "source": [
    "import numpy as np\n",
    "from qiskit.qobj.utils import MeasLevel\n",
    "from qiskit_experiments.framework import ParallelExperiment\n",
    "from qiskit_experiments.library import T1\n",
    "from qiskit_experiments.library.characterization.analysis.t1_analysis import T1KerneledAnalysis\n",
    "\n",
    "# A T1 simulator\n",
    "from qiskit.providers.fake_provider import FakePerth\n",
    "from qiskit_aer import AerSimulator\n",
    "from qiskit_aer.noise import NoiseModel\n",
    "\n",
    "# A kerneled data simulator\n",
    "from qiskit_experiments.test.mock_iq_backend import MockIQBackend\n",
    "from qiskit_experiments.test.mock_iq_helpers import MockIQT1Helper"
   ]
  },
  {
   "cell_type": "code",
   "execution_count": 7,
   "metadata": {
    "colab": {
     "base_uri": "https://localhost:8080/"
    },
    "id": "P9K-w9LIYMnB",
    "outputId": "ee66ccbf-a212-433f-e064-7e1c5a9639ab"
   },
   "outputs": [
    {
     "name": "stdout",
     "output_type": "stream",
     "text": [
      "Installing collected packages: websockets, qiskit_ibm_provider\n",
      "Successfully installed qiskit_ibm_provider-0.7.0 websockets-11.0.3\n"
     ]
    }
   ],
   "source": [
    "!pip install qiskit_ibm_provider"
   ]
  },
  {
   "cell_type": "code",
   "execution_count": 16,
   "metadata": {
    "colab": {
     "base_uri": "https://localhost:8080/"
    },
    "id": "nofjQDmPYUi4",
    "outputId": "e27b8a30-51ad-4d77-c753-639c4d05f9fc"
   },
   "outputs": [
    {
     "data": {
      "text/plain": [
       "['cmdw6v3te72g008jsg80']"
      ]
     },
     "execution_count": 16,
     "metadata": {},
     "output_type": "execute_result"
    }
   ],
   "source": [
    "from qiskit_ibm_provider import IBMProvider\n",
    "from qiskit.providers.jobstatus import JobStatus\n",
    "from qiskit.qobj.utils import MeasLevel\n",
    "\n",
    "delays = np.linspace(0, 75*4, 75)\n",
    "exp = T1(physical_qubits=(0,), delays=delays)\n",
    "exp.set_run_options(shots=8000)\n",
    "\n",
    "provider = IBMProvider(token=\"e8286cff0e21dc8265d17f01d30e9dc62debe3bb6557f339f326fda4b97d2894de135f54fe2dee4e4e2319f5e7e8155b88c856b01502b8a0b9435607e4e6432e\")\n",
    "real_backend = provider.get_backend('ibm_perth')\n",
    "\n",
    "real_backend.qubit_properties(0)\n",
    "\n",
    "exp_data = exp.run(backend=real_backend)\n",
    "exp_data.job_ids #-> to see your job id’s"
   ]
  },
  {
   "cell_type": "code",
   "execution_count": 12,
   "metadata": {
    "id": "r34uA2MHYYuH"
   },
   "outputs": [],
   "source": [
    "job_status = exp_data.status()"
   ]
  },
  {
   "cell_type": "code",
   "execution_count": 15,
   "metadata": {
    "colab": {
     "base_uri": "https://localhost:8080/"
    },
    "id": "y0vziYkPYZeH",
    "outputId": "90c53b6c-05d6-49ff-c162-53898da6bd68"
   },
   "outputs": [
    {
     "data": {
      "text/plain": [
       "<ExperimentStatus.QUEUED: 'experiment jobs are queued'>"
      ]
     },
     "execution_count": 15,
     "metadata": {},
     "output_type": "execute_result"
    }
   ],
   "source": [
    "job_status\n",
    "#<ExperimentStatus.QUEUED: 'experiment jobs are queued'>"
   ]
  },
  {
   "cell_type": "code",
   "execution_count": null,
   "metadata": {
    "id": "QiKKvXS8YbmD"
   },
   "outputs": [],
   "source": [
    "from qiskit_ibm_runtime import QiskitRuntimeService\n",
    "\n",
    "service = QiskitRuntimeService()\n",
    "\n",
    "service.jobs(backend_name=\"ibm_perth\")"
   ]
  }
 ],
 "metadata": {
  "colab": {
   "provenance": []
  },
  "kernelspec": {
   "display_name": "Python 3 (ipykernel)",
   "language": "python",
   "name": "python3"
  },
  "language_info": {
   "codemirror_mode": {
    "name": "ipython",
    "version": 3
   },
   "file_extension": ".py",
   "mimetype": "text/x-python",
   "name": "python",
   "nbconvert_exporter": "python",
   "pygments_lexer": "ipython3",
   "version": "3.9.7"
  }
 },
 "nbformat": 4,
 "nbformat_minor": 1
}
